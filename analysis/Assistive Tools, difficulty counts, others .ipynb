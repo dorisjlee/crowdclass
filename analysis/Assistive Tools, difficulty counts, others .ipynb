{
 "cells": [
  {
   "cell_type": "code",
   "execution_count": 85,
   "metadata": {
    "collapsed": false
   },
   "outputs": [
    {
     "name": "stdout",
     "output_type": "stream",
     "text": [
      "Populating the interactive namespace from numpy and matplotlib\n"
     ]
    }
   ],
   "source": [
    "%pylab inline\n",
    "import pandas as pd \n",
    "import fnmatch\n",
    "import scipy.stats as stats\n",
    "import os\n",
    "from collections import Counter\n",
    "from  stats_helper import *\n",
    "\n",
    "users = pd.read_csv(\"Crowdclass_Data.csv\")\n",
    "dataA = users[users[\"Group\"]==\"A\"]\n",
    "dataB = users[users[\"Group\"]==\"B\"]\n",
    "headers = list(users.columns)"
   ]
  },
  {
   "cell_type": "markdown",
   "metadata": {},
   "source": [
    "### Difficulty counts "
   ]
  },
  {
   "cell_type": "code",
   "execution_count": 86,
   "metadata": {
    "collapsed": false
   },
   "outputs": [
    {
     "name": "stdout",
     "output_type": "stream",
     "text": [
      "13.4042553191\n",
      "5.04255319149\n",
      "12.2978723404\n"
     ]
    }
   ],
   "source": [
    "print mean(dataB[\"easy_count\"])\n",
    "print mean(dataB[\"med_count\"])\n",
    "print mean(dataB[\"hard_count\"])"
   ]
  },
  {
   "cell_type": "code",
   "execution_count": 87,
   "metadata": {
    "collapsed": false
   },
   "outputs": [
    {
     "name": "stdout",
     "output_type": "stream",
     "text": [
      "100.0 %\n",
      "89.3617021277 %\n",
      "80.8510638298 %\n"
     ]
    }
   ],
   "source": [
    "print len(dataB[dataB[\"easy_count\"]!=0])/float(len(dataB))*100. ,\"%\"\n",
    "print len(dataB[dataB[\"med_count\"]!=0])/float(len(dataB))*100.,\"%\"\n",
    "print len(dataB[dataB[\"hard_count\"]!=0])/float(len(dataB))*100.,\"%\""
   ]
  },
  {
   "cell_type": "markdown",
   "metadata": {},
   "source": [
    "### Img classified "
   ]
  },
  {
   "cell_type": "code",
   "execution_count": 114,
   "metadata": {
    "collapsed": true
   },
   "outputs": [],
   "source": [
    "A = dataA[\"img_classified\"]\n",
    "B = dataB[\"img_classified\"]"
   ]
  },
  {
   "cell_type": "code",
   "execution_count": 89,
   "metadata": {
    "collapsed": false
   },
   "outputs": [],
   "source": [
    "def print_stats_non_parametric(A,B):\n",
    "    np.set_printoptions(precision=4)\n",
    "    print np.array([mean(A),std(A),min(A),max(A),percentile(A,25),percentile(A,50),percentile(A,75)])\n",
    "    print np.array([mean(B),std(B),min(B),max(B),percentile(B,25),percentile(B,50),percentile(B,75)])"
   ]
  },
  {
   "cell_type": "code",
   "execution_count": 90,
   "metadata": {
    "collapsed": false
   },
   "outputs": [
    {
     "name": "stdout",
     "output_type": "stream",
     "text": [
      "[ 37.7174  19.369   10.      86.      20.25    35.5     50.    ]\n",
      "[ 30.7447  18.332    6.      86.      17.5     26.      41.    ]\n"
     ]
    }
   ],
   "source": [
    "print_stats_non_parametric(A,B)"
   ]
  },
  {
   "cell_type": "code",
   "execution_count": 81,
   "metadata": {
    "collapsed": false
   },
   "outputs": [
    {
     "name": "stdout",
     "output_type": "stream",
     "text": [
      "---------------------------------------------------------------------------------\n",
      "Img_classified\n",
      "Median\n",
      "A:  35.5\n",
      "B:  26.0\n",
      "A > B\n",
      "------\n",
      "A: mu = 37.717; std = 19.369\n",
      "B: mu = 30.745; std = 18.332\n",
      "A : W = 0.94 ; p =0.0205743201077 ---> NOT Normal\n",
      "B : W = 0.9 ; p =0.000933011702728 ---> NOT Normal\n",
      "\tWilcoxon rank sum test with continuity correction\n",
      "\n",
      "data:  GroupA and GroupB\n",
      "\n",
      "W = 1327.5, p-value = 0.05858\n",
      "\n",
      "alternative hypothesis: true location shift is not equal to 0\n",
      "\n",
      "\tExact Wilcoxon-Mann-Whitney Test\n",
      "\n",
      "data:  v by g (GroupA, GroupB)\n",
      "\n",
      "Effect Size  = 0.196523085185 -----> Small\n",
      "Z = 1.8952, p-value = 0.05808\n",
      "\n",
      "alternative hypothesis: true mu is not equal to 0\n",
      "\n",
      "Mean ranks of group\n",
      "[1] 52.3587\n",
      "\n",
      "Mean ranks of group\n",
      "[1] 41.75532\n",
      "\n"
     ]
    }
   ],
   "source": [
    "run_all_non_parametric_analysis(A,B,\"Img_classified\")"
   ]
  },
  {
   "cell_type": "code",
   "execution_count": 112,
   "metadata": {
    "collapsed": true
   },
   "outputs": [],
   "source": [
    "def single_bar_chart(dataA,dataB, N=1,width=0.3,title=\"\"):\n",
    "    AMeans = mean(dataA)\n",
    "    BMeans = mean(dataB)\n",
    "    # Astd = [std(dataA), std(A_posttest_score)]\n",
    "    # Bstd =[std(dataB), std(B_posttest_score)]\n",
    "    A_yerr = np.array(stats.t.interval(0.95,len(dataA)-1,loc = mean(dataA), scale=stats.sem(dataA))- mean(dataA))\n",
    "    B_yerr = np.array(stats.t.interval(0.95,len(dataB)-1,loc = mean(dataB), scale=stats.sem(dataB))- mean(dataB))\n",
    "    ind = np.arange(N)  # the x locations for the groups\n",
    "    ax = plt.subplot(121)\n",
    "    rects1 = ax.bar(ind, mean(dataA), width=width, color='r',ecolor= \"black\",yerr = A_yerr[0])\n",
    "    rects2 = ax.bar( ind+width, mean(dataB), width=width, color='b',ecolor= \"black\",yerr = B_yerr[0])\n",
    "\n",
    "    # add some text for labels, title and axes ticks\n",
    "#     ax.set_ylabel('Rate [images/min]',fontsize=14)\n",
    "    ax.set_title(title,fontsize=16)\n",
    "    ax.set_xticks([width])\n",
    "    ax.set_xticklabels((''),fontsize=14)\n",
    "    ax.set_yticklabels(np.arange(0,46,5),fontsize=13)\n",
    "\n",
    "    def autolabel(rects):\n",
    "        # attach some text labels\n",
    "        for rect in rects:\n",
    "            height = rect.get_height()\n",
    "            ax.text(rect.get_x() + rect.get_width()/2., 0.5*height,\n",
    "                    '%.2f' % float(height),\n",
    "                    ha='center', va='bottom',color=\"white\",fontsize=15)\n",
    "\n",
    "    autolabel(rects1)\n",
    "    autolabel(rects2)\n",
    "    print AMeans, BMeans, A_yerr,B_yerr"
   ]
  },
  {
   "cell_type": "code",
   "execution_count": 115,
   "metadata": {
    "collapsed": false
   },
   "outputs": [
    {
     "name": "stdout",
     "output_type": "stream",
     "text": [
      "37.7173913043 30.7446808511 [-5.8155  5.8155] [-5.4407  5.4407]\n"
     ]
    },
    {
     "data": {
      "image/png": "[encoded data removed]",
      "text/plain": [
       "<matplotlib.figure.Figure at 0x113d11050>"
      ]
     },
     "metadata": {},
     "output_type": "display_data"
    }
   ],
   "source": [
    "single_bar_chart(A,B,title=\"Images Classified\")"
   ]
  },
  {
   "cell_type": "markdown",
   "metadata": {},
   "source": [
    "# Assistive Tools usage "
   ]
  },
  {
   "cell_type": "code",
   "execution_count": 91,
   "metadata": {
    "collapsed": false
   },
   "outputs": [
    {
     "name": "stdout",
     "output_type": "stream",
     "text": [
      "Hints\n",
      "mu = : 5.59574468085\n",
      "std =  8.21430919246\n"
     ]
    }
   ],
   "source": [
    "hints = np.array(dataB[\"hints_count\"])\n",
    "print \"Hints\"\n",
    "print \"mu = :\",mean(hints)\n",
    "print \"std = \", std(hints)\n",
    "# plt.hist(hints)"
   ]
  },
  {
   "cell_type": "code",
   "execution_count": 105,
   "metadata": {
    "collapsed": false
   },
   "outputs": [
    {
     "name": "stdout",
     "output_type": "stream",
     "text": [
      "---------------------------------------------------------------------------------\n",
      "Restart\n",
      "Median\n",
      "A:  0.0\n",
      "B:  0.0\n",
      "A = B\n",
      "------\n",
      "A: mu = 0.739; std = 1.737\n",
      "B: mu = 0.043; std = 0.289\n",
      "A : W = 0.49 ; p =2.14785411679e-11 ---> NOT Normal\n",
      "B : W = 0.13 ; p =3.61440393538e-15 ---> NOT Normal\n",
      "\tWilcoxon rank sum test with continuity correction\n",
      "\n",
      "data:  GroupA and GroupB\n",
      "\n",
      "W = 1318, p-value = 0.001806\n",
      "\n",
      "alternative hypothesis: true location shift is not equal to 0\n",
      "\n",
      "\tExact Wilcoxon-Mann-Whitney Test\n",
      "\n",
      "data:  v by g (GroupA, GroupB)\n",
      "\n",
      "Effect Size  = 0.324254794942 -----> Medium\n",
      "Restart : p =0.0009714 ---> NOT from same population\n",
      "Z = 3.127, p-value = 0.0009714\n",
      "\n",
      "alternative hypothesis: true mu is not equal to 0\n",
      "\n",
      "Mean ranks of group\n",
      "[1] 52.15217\n",
      "\n",
      "Mean ranks of group\n",
      "[1] 41.95745\n",
      "\n"
     ]
    }
   ],
   "source": [
    "A = np.array(dataA[\"restart_count\"])\n",
    "B = np.array(dataB[\"restart_count\"])\n",
    "# plt.hist(A)\n",
    "# plt.hist(B)\n",
    "run_all_non_parametric_analysis(A,B,\"Restart\")"
   ]
  },
  {
   "cell_type": "code",
   "execution_count": 93,
   "metadata": {
    "collapsed": false
   },
   "outputs": [
    {
     "name": "stdout",
     "output_type": "stream",
     "text": [
      "---------------------------------------------------------------------------------\n",
      "Example\n",
      "Median\n",
      "A:  0.0\n",
      "B:  0.0\n",
      "A = B\n",
      "------\n",
      "A: mu = 0.065; std = 0.323\n",
      "B: mu = 0.702; std = 1.597\n",
      "A : W = 0.21 ; p =2.2679905168e-14 ---> NOT Normal\n",
      "B : W = 0.51 ; p =2.58580466067e-11 ---> NOT Normal\n",
      "\tWilcoxon rank sum test with continuity correction\n",
      "\n",
      "data:  GroupA and GroupB\n",
      "\n",
      "W = 848, p-value = 0.004069\n",
      "\n",
      "alternative hypothesis: true location shift is not equal to 0\n",
      "\n",
      "\tExact Wilcoxon-Mann-Whitney Test\n",
      "\n",
      "data:  v by g (GroupA, GroupB)\n",
      "\n",
      "Effect Size  = 0.298528023396 -----> Small\n",
      "Z = -2.8789, p-value = 0.004226\n",
      "\n",
      "alternative hypothesis: true mu is not equal to 0\n",
      "\n",
      "Mean ranks of group\n",
      "[1] 41.93478\n",
      "\n",
      "Mean ranks of group\n",
      "[1] 51.95745\n",
      "\n"
     ]
    }
   ],
   "source": [
    "A = np.array(dataA[\"examples_count\"])\n",
    "B = np.array(dataB[\"examples_count\"])\n",
    "# plt.hist(A)\n",
    "# plt.hist(B)\n",
    "run_all_non_parametric_analysis(A,B,\"Example\")"
   ]
  },
  {
   "cell_type": "markdown",
   "metadata": {},
   "source": [
    "#### More people were clicking on restarts in group A, which meant they were more unsure about their responses. There was more clicks in example pages in B because they were more engaged "
   ]
  },
  {
   "cell_type": "markdown",
   "metadata": {},
   "source": [
    "The number of non-zeros in counts in assistive tools shows more engagement"
   ]
  },
  {
   "cell_type": "code",
   "execution_count": 108,
   "metadata": {
    "collapsed": true
   },
   "outputs": [],
   "source": [
    "A_assistive_tools_count = np.array(dataA[\"examples_count\"]+dataA[\"restart_count\"])"
   ]
  },
  {
   "cell_type": "code",
   "execution_count": 109,
   "metadata": {
    "collapsed": false
   },
   "outputs": [
    {
     "name": "stdout",
     "output_type": "stream",
     "text": [
      "26.0869565217 % of participants in group A used assistive tools.\n"
     ]
    }
   ],
   "source": [
    "print len(np.where(A_assistive_tools_count !=0.)[0]) / float(len(dataA)) * 100 ,\"% of participants in group A used assistive tools.\""
   ]
  },
  {
   "cell_type": "code",
   "execution_count": 110,
   "metadata": {
    "collapsed": false
   },
   "outputs": [
    {
     "name": "stdout",
     "output_type": "stream",
     "text": [
      "72.3404255319 % of participants in group A used assistive tools.\n"
     ]
    }
   ],
   "source": [
    "B_assistive_tools_count = np.array(dataB[\"hints_count\"]+dataB[\"examples_count\"]+dataB[\"restart_count\"])\n",
    "print len(np.where(B_assistive_tools_count!=0.)[0]) / float(len(dataB)) * 100 ,\"% of participants in group A used assistive tools.\""
   ]
  }
 ],
 "metadata": {
  "kernelspec": {
   "display_name": "Python 2",
   "language": "python",
   "name": "python2"
  },
  "language_info": {
   "codemirror_mode": {
    "name": "ipython",
    "version": 2
   },
   "file_extension": ".py",
   "mimetype": "text/x-python",
   "name": "python",
   "nbconvert_exporter": "python",
   "pygments_lexer": "ipython2",
   "version": "2.7.10"
  }
 },
 "nbformat": 4,
 "nbformat_minor": 0
}
