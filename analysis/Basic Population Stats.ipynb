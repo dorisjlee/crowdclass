{
 "cells": [
  {
   "cell_type": "markdown",
   "metadata": {},
   "source": [
    "# Categorical data from pre-screen survey"
   ]
  },
  {
   "cell_type": "code",
   "execution_count": 9,
   "metadata": {
    "collapsed": false
   },
   "outputs": [
    {
     "name": "stdout",
     "output_type": "stream",
     "text": [
      "Populating the interactive namespace from numpy and matplotlib\n"
     ]
    }
   ],
   "source": [
    "%pylab inline\n",
    "import pandas as pd\n",
    "import os\n",
    "from collections import Counter \n",
    "from scipy.stats import stats"
   ]
  },
  {
   "cell_type": "code",
   "execution_count": 14,
   "metadata": {
    "collapsed": false
   },
   "outputs": [
    {
     "name": "stdout",
     "output_type": "stream",
     "text": [
      "---------------------\n",
      "Age\n",
      "18-21 : 4.30  %\n",
      "30-39 : 31.18  %\n",
      "60+   : 4.30  %\n",
      "40-59 : 31.18  %\n",
      "22-29 : 29.03  %\n",
      "---------------------\n",
      "Highest Level of education\n",
      "Professional (MS, PhD, JD ..etc) : 26.88  %\n",
      "Bachelor / Associate Degree : 46.24  %\n",
      "High School or Equivalent : 9.68  %\n",
      "Some college. : 17.20  %\n",
      "---------------------\n",
      "Area of Study/Professional Interest\n",
      "STEM  : 46.24  %\n",
      "Others : 53.76  %\n",
      "---------------------\n",
      "What is your experience with citizen science? (e.g. Zooniverse, Volunteer Computing, community sensing)\n",
      "Yes   : 17.20  %\n",
      "No    : 82.80  %\n",
      "---------------------\n",
      "Geographic Location\n",
      "Other : 31.18  %\n",
      "India : 18.28  %\n",
      "USA   : 50.54  %\n"
     ]
    }
   ],
   "source": [
    "data = pd.read_csv(\"Crowdclass_Data.csv\")\n",
    "data =data.dropna(how=\"all\")\n",
    "def basic_stats_categorical(field):\n",
    "    print \"---------------------\"\n",
    "    print field\n",
    "    cnt = Counter(data[field])\n",
    "#     print cnt\n",
    "    percentage = np.array(cnt.values())/float(sum(cnt.values()))*100\n",
    "    for category,percent in zip(cnt.keys(),percentage):\n",
    "        print  \"{} : %.2f \".format(str(category).ljust(5)) %percent ,\"%\"\n",
    "        \n",
    "field_lst = [\"Age\", \"Highest Level of education\",\"Area of Study/Professional Interest\",\\\n",
    "             \"What is your experience with citizen science? (e.g. Zooniverse, Volunteer Computing, community sensing)\",\\\n",
    "             \"Geographic Location\"]\n",
    "for field in field_lst:             \n",
    "    basic_stats_categorical(field)"
   ]
  },
  {
   "cell_type": "markdown",
   "metadata": {},
   "source": [
    "### Fisher's Exact : Making sure Group A and Group B demographics are simmilar\n",
    "\n",
    "http://yatani.jp/teaching/doku.php?id=hcistats:chisquare"
   ]
  },
  {
   "cell_type": "code",
   "execution_count": 15,
   "metadata": {
    "collapsed": true
   },
   "outputs": [],
   "source": [
    "users = data\n",
    "A_summary_stats = users[users[\"Group\"]==\"A\"]\n",
    "B_summary_stats = users[users[\"Group\"]==\"B\"]"
   ]
  },
  {
   "cell_type": "code",
   "execution_count": 16,
   "metadata": {
    "collapsed": false
   },
   "outputs": [],
   "source": [
    "def Fisher_Test(field,abbrev = \"\",output=\"p-value\"):\n",
    "    cntA = Counter(A_summary_stats[field])\n",
    "    cntB = Counter(B_summary_stats[field])\n",
    "#     print \"# Categories: \", sorted(cntA.keys())\n",
    "    ncol = len(cntA.keys())\n",
    "    lst = list(set(cntA) - set(cntB))\n",
    "    if len(cntA)>len(cntB):\n",
    "        for l in lst:\n",
    "            cntB[l]='0'\n",
    "    elif len(cntA)<len(cntB):\n",
    "        for l in lst:\n",
    "            cntA[l]='0'\n",
    "    alist = [cntA[i] for i in sorted(cntA.keys())]\n",
    "    blist = [cntB[i] for i in sorted(cntB.keys())]\n",
    "    alist.extend(blist)\n",
    "#     print len(alist)\n",
    "#     print \"data <- matrix(c(\"+ ','.join(str(p) for p in alist)+\"), ncol=5, byrow=T)\"\n",
    "#     print \"fisher.test(data)\"\n",
    "    f = open(\"Fisher.r\", \"w\")\n",
    "    f.write(\"data <- matrix(c(\"+ ','.join(str(p) for p in alist)+\"), ncol={}, byrow=T) \\n\".format(ncol))\n",
    "    f.write(\"# Contingency Table \\n\")\n",
    "#     f.write(\"data \\n\")\n",
    "    f.write(\"fisher.test(data) \\n\")\n",
    "    f.write(\"library(vcd) \\n\")\n",
    "    f.write(\"assocstats(data) \\n\")\n",
    "    f.close()\n",
    "\n",
    "#     batcmd=os.getcwd()\n",
    "#     result = subprocess.check_output('dir/', shell=True)\n",
    "    os.system(\"r -f Fisher.r > Fisher_{}.out\".format(abbrev))\n",
    "    f = open(\"Fisher_{}.out\".format(abbrev), 'r')\n",
    "    lines = f.readlines()[18:] # supress header outputs\n",
    "    if output==\"full\":\n",
    "        for l in lines:\n",
    "            if l!='\\n':\n",
    "                print l \n",
    "    elif output==\"p-value\":\n",
    "        for l in lines:\n",
    "            if l[:7]=='p-value':\n",
    "                p = float(l.split()[-1])\n",
    "                print \"{0} : p ={1} ---> {2}\".format(field,p,pcheck(p,\"Independence\"))\n",
    "    f.close()"
   ]
  },
  {
   "cell_type": "markdown",
   "metadata": {},
   "source": [
    "Null hypothesis:  the occurrence of the outcomes for the two groups is equal --> independence"
   ]
  },
  {
   "cell_type": "markdown",
   "metadata": {},
   "source": [
    "If we look at the output ``cat Fisher_age.out\", we see that assocstats also prints out the contingency coefficient, Pearson's coeffient, Cramer's V ...etc which measures strength of independence of the categorical frequency. That info is a bit excessive but its there if we need them. "
   ]
  },
  {
   "cell_type": "code",
   "execution_count": 19,
   "metadata": {
    "collapsed": false
   },
   "outputs": [],
   "source": [
    "from  stats_helper import *"
   ]
  },
  {
   "cell_type": "code",
   "execution_count": 20,
   "metadata": {
    "collapsed": false
   },
   "outputs": [
    {
     "name": "stdout",
     "output_type": "stream",
     "text": [
      "Age : p =0.4704 ---> Independence\n",
      "Highest Level of education : p =0.2127 ---> Independence\n",
      "Area of Study/Professional Interest : p =0.8364 ---> Independence\n",
      "What is your experience with citizen science? (e.g. Zooniverse, Volunteer Computing, community sensing) : p =1.0 ---> Independence\n",
      "Geographic Location : p =0.3882 ---> Independence\n"
     ]
    }
   ],
   "source": [
    "Fisher_Test(\"Age\",abbrev=\"age\",output=\"p-value\")\n",
    "Fisher_Test(\"Highest Level of education\",abbrev=\"Edu\",output=\"p-value\")\n",
    "Fisher_Test(\"Area of Study/Professional Interest\",abbrev=\"Interest\",output=\"p-value\")\n",
    "Fisher_Test(\"What is your experience with citizen science? (e.g. Zooniverse, Volunteer Computing, community sensing)\",abbrev=\"CS_exp\",output=\"p-value\")\n",
    "Fisher_Test(\"Geographic Location\",abbrev=\"Geo\",output=\"p-value\")"
   ]
  },
  {
   "cell_type": "markdown",
   "metadata": {},
   "source": [
    "##### Fisher's Exact test shows that Group A and B are independent in these variables of interest measured in our pre-screening survey. "
   ]
  },
  {
   "cell_type": "markdown",
   "metadata": {},
   "source": [
    "# Quantitative data from pre-screen survey "
   ]
  },
  {
   "cell_type": "markdown",
   "metadata": {},
   "source": [
    "- 10-point Likert scale data from pre-screen survey"
   ]
  },
  {
   "cell_type": "code",
   "execution_count": 21,
   "metadata": {
    "collapsed": true
   },
   "outputs": [],
   "source": [
    "def kolmogorov_smirnov(data1,data2,name):\n",
    "    result = stats.ks_2samp(data1,data2)\n",
    "    print \"{0} : D = {1} ; p ={2} ---> {3}\".format(name,np.around(result[0],2),np.around(result[1],2),pcheck(result[1],\"from same distribution\"))"
   ]
  },
  {
   "cell_type": "code",
   "execution_count": 22,
   "metadata": {
    "collapsed": true
   },
   "outputs": [],
   "source": [
    "def pcheck(p,null_hyp):\n",
    "    '''\n",
    "    if p>0.05 then reject null hypothesis\n",
    "    '''\n",
    "    if p>0.05:\n",
    "        return  null_hyp\n",
    "    else:\n",
    "        return \"NOT \"+null_hyp"
   ]
  },
  {
   "cell_type": "code",
   "execution_count": 23,
   "metadata": {
    "collapsed": false
   },
   "outputs": [
    {
     "name": "stdout",
     "output_type": "stream",
     "text": [
      "---------------------\n",
      "Level of knowledge in astronomy : D = 0.16 ; p =0.59 ---> from same distribution\n",
      "For A: \n",
      "mean  =  3.71739130435\n",
      "std  =  2.40165743021\n",
      "For B: \n",
      "mean  =  3.23404255319\n",
      "std  =  2.10584562241\n",
      "---------------------\n",
      "Level of interest in astronomy : D = 0.12 ; p =0.85 ---> from same distribution\n",
      "For A: \n",
      "mean  =  6.95652173913\n",
      "std  =  2.73429524931\n",
      "For B: \n",
      "mean  =  6.48936170213\n",
      "std  =  2.7895880915\n",
      "---------------------\n",
      "Level of interest in science : D = 0.1 ; p =0.97 ---> from same distribution\n",
      "For A: \n",
      "mean  =  8.39130434783\n",
      "std  =  1.87057606646\n",
      "For B: \n",
      "mean  =  8.04255319149\n",
      "std  =  2.13339652087\n"
     ]
    }
   ],
   "source": [
    "def basic_stats_quantitative(field,plot_hist = False): \n",
    "    print \"---------------------\"\n",
    "#     print field\n",
    "    Adata =  np.array(A_summary_stats[field])\n",
    "    Bdata =  np.array(B_summary_stats[field])\n",
    "#     print Adata\n",
    "#     print Bdata\n",
    "#     print \"Check that they come from the same distribution with KS test\" \n",
    "    kolmogorov_smirnov(Adata,Bdata,field)\n",
    "    if plot_hist:\n",
    "        plt.figure()\n",
    "        plt.title(field,fontsize=14)\n",
    "        plt.hist(Adata,label=\"A\",bins =10)\n",
    "        plt.hist(Bdata,label=\"B\",bins =10)\n",
    "        plt.xlim(0,10)\n",
    "        plt.legend(loc = \"upper left\")\n",
    "    \n",
    "    print \"For A: \"\n",
    "    print \"mean  = \", mean(Adata)\n",
    "    print \"std  = \", std(Adata)\n",
    "\n",
    "    print \"For B: \"\n",
    "    print \"mean  = \", mean(Bdata)\n",
    "    print \"std  = \", std(Bdata)\n",
    "\n",
    "qfield_lst  = [\"Level of knowledge in astronomy\",\"Level of interest in astronomy\", \"Level of interest in science\"]\n",
    "for field in qfield_lst:\n",
    "    basic_stats_quantitative(field)"
   ]
  }
 ],
 "metadata": {
  "kernelspec": {
   "display_name": "Python 2",
   "language": "python",
   "name": "python2"
  },
  "language_info": {
   "codemirror_mode": {
    "name": "ipython",
    "version": 2
   },
   "file_extension": ".py",
   "mimetype": "text/x-python",
   "name": "python",
   "nbconvert_exporter": "python",
   "pygments_lexer": "ipython2",
   "version": "2.7.10"
  }
 },
 "nbformat": 4,
 "nbformat_minor": 0
}
