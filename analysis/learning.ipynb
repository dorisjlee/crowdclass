{
 "cells": [
  {
   "cell_type": "code",
   "execution_count": 1,
   "metadata": {
    "collapsed": false
   },
   "outputs": [
    {
     "name": "stdout",
     "output_type": "stream",
     "text": [
      "Populating the interactive namespace from numpy and matplotlib\n"
     ]
    }
   ],
   "source": [
    "%pylab inline\n",
    "import pandas as pd \n",
    "import fnmatch\n",
    "import os\n",
    "from collections import Counter\n",
    "from stats_helper import *"
   ]
  },
  {
   "cell_type": "markdown",
   "metadata": {},
   "source": [
    "# Bar chart showing average scores plus std or confidence intervals "
   ]
  },
  {
   "cell_type": "code",
   "execution_count": 2,
   "metadata": {
    "collapsed": false
   },
   "outputs": [],
   "source": [
    "users = pd.read_csv(\"Crowdclass_Data.csv\")\n",
    "A_summary_stats = users[users[\"Group\"]==\"A\"]\n",
    "B_summary_stats = users[users[\"Group\"]==\"B\"]\n",
    "# A_summary_stats=groupA_survey.dropna(thresh=5) \n",
    "# B_summary_stats =groupB_survey.dropna(thresh=5) "
   ]
  },
  {
   "cell_type": "markdown",
   "metadata": {},
   "source": [
    "Excluding uncertainty "
   ]
  },
  {
   "cell_type": "markdown",
   "metadata": {},
   "source": [
    "$$\\mbox{Score}  = \\frac{N_{\\mbox{correct}}}{N_{\\mbox{correct}}+N_{\\mbox{wrong}}}$$"
   ]
  },
  {
   "cell_type": "code",
   "execution_count": 3,
   "metadata": {
    "collapsed": true
   },
   "outputs": [],
   "source": [
    "def accuracy(N_correct,N_wrong):\n",
    "    '''\n",
    "    returns accuracy based on correct/wrong counts\n",
    "    \n",
    "    Some users never get to some questions so they might not have \n",
    "    N_correct and N_wrong counts. But this is different from accuracy=0\n",
    "    So we put a flag of -1 if user accuracy N/A\n",
    "    '''\n",
    "    if N_correct+N_wrong ==0:\n",
    "        return -1/100. #all uncertainty\n",
    "    else:\n",
    "        return N_correct/ float(N_correct+N_wrong)"
   ]
  },
  {
   "cell_type": "code",
   "execution_count": 7,
   "metadata": {
    "collapsed": false
   },
   "outputs": [],
   "source": [
    "A_pretest_score= []\n",
    "for i in np.arange(len(A_summary_stats)):\n",
    "    if (A_summary_stats.iloc[i]['pre_correct'] + A_summary_stats.iloc[i]['pre_wrong']+A_summary_stats.iloc[i]['pre_uncertain']) ==10:\n",
    "        A_pretest_score.append(accuracy(A_summary_stats.iloc[i]['pre_correct'],A_summary_stats.iloc[i]['pre_wrong']))\n",
    "B_pretest_score= []\n",
    "for i in np.arange(len(B_summary_stats)):\n",
    "    if (B_summary_stats.iloc[i]['pre_correct'] + B_summary_stats.iloc[i]['pre_wrong']+B_summary_stats.iloc[i]['pre_uncertain']) ==10:\n",
    "        B_pretest_score.append(accuracy(B_summary_stats.iloc[i]['pre_correct'],B_summary_stats.iloc[i]['pre_wrong']))\n",
    "A_pretest_score = np.array(A_pretest_score)*100.\n",
    "B_pretest_score = np.array(B_pretest_score)*100.\n",
    "\n",
    "\n",
    "A_posttest_score= []\n",
    "for i in np.arange(len(A_summary_stats)):\n",
    "    if (A_summary_stats.iloc[i]['post_correct'] + A_summary_stats.iloc[i]['post_wrong']+A_summary_stats.iloc[i]['post_uncertain']) ==10:\n",
    "        A_posttest_score.append(accuracy(A_summary_stats.iloc[i]['post_correct'],A_summary_stats.iloc[i]['post_wrong']))\n",
    "B_posttest_score= []\n",
    "for i in np.arange(len(B_summary_stats)):\n",
    "    if (B_summary_stats.iloc[i]['post_correct'] + B_summary_stats.iloc[i]['post_wrong']+B_summary_stats.iloc[i]['post_uncertain']) ==10:\n",
    "        B_posttest_score.append(accuracy(B_summary_stats.iloc[i]['post_correct'],B_summary_stats.iloc[i]['post_wrong']))\n",
    "A_posttest_score = np.array(A_posttest_score)*100.\n",
    "B_posttest_score = np.array(B_posttest_score)*100."
   ]
  },
  {
   "cell_type": "code",
   "execution_count": 8,
   "metadata": {
    "collapsed": false
   },
   "outputs": [
    {
     "name": "stdout",
     "output_type": "stream",
     "text": [
      "A: mu = 44.734; std = 25.814\n",
      "B: mu = 67.752; std = 20.065\n"
     ]
    }
   ],
   "source": [
    "basic_stats(A_posttest_score,B_posttest_score)"
   ]
  },
  {
   "cell_type": "code",
   "execution_count": 10,
   "metadata": {
    "collapsed": false
   },
   "outputs": [],
   "source": [
    "A_pretest_score = np.delete(A_pretest_score,np.where(A_pretest_score==-1.)[0])\n",
    "B_pretest_score = np.delete(B_pretest_score,np.where(B_pretest_score==-1.)[0])\n",
    "A_posttest_score = np.delete(A_posttest_score,np.where(A_posttest_score==-1.)[0])\n",
    "B_postest_score = np.delete(B_posttest_score,np.where(B_posttest_score==-1.)[0])"
   ]
  },
  {
   "cell_type": "code",
   "execution_count": 11,
   "metadata": {
    "collapsed": false
   },
   "outputs": [
    {
     "data": {
      "image/png": "[encoded data removed]",
      "text/plain": [
       "<matplotlib.figure.Figure at 0x110b7c350>"
      ]
     },
     "metadata": {},
     "output_type": "display_data"
    }
   ],
   "source": [
    "# import seaborn\n",
    "import scipy.stats as stat\n",
    "AMeans = [mean(A_pretest_score), mean(A_posttest_score)]\n",
    "BMeans = [mean(B_pretest_score), mean(B_posttest_score)]\n",
    "# Astd = [std(A_pretest_score), std(A_posttest_score)]\n",
    "# Bstd =[std(B_pretest_score), std(B_posttest_score)]\n",
    "A_yerr = stat.t.interval(0.95,len(A_pretest_score)-1,loc = mean(A_pretest_score), scale=stat.sem(A_pretest_score))- mean(A_pretest_score)\n",
    "B_yerr = stat.t.interval(0.95,len(B_pretest_score)-1,loc = mean(B_pretest_score), scale=stat.sem(B_pretest_score))- mean(B_pretest_score)\n",
    "N = 2\n",
    "ind = np.arange(N)  # the x locations for the groups\n",
    "width = 0.30       # the width of the bars\n",
    "\n",
    "fig, ax = plt.subplots()\n",
    "rects1 = ax.bar(ind, AMeans, width, color='r', yerr=A_yerr,ecolor= \"black\")\n",
    "rects2 = ax.bar(ind + width, BMeans, width, color='b', yerr=B_yerr,ecolor= \"black\")\n",
    "\n",
    "# add some text for labels, title and axes ticks\n",
    "ax.set_ylabel('Scores',fontsize=14)\n",
    "ax.set_title('Learning Scores',fontsize=16)\n",
    "ax.set_xticks(ind + width)\n",
    "ax.set_xticklabels(('Pre-test', 'Post-test'),fontsize=14)\n",
    "\n",
    "ax.legend((rects1[0], rects2[0]), ('A', 'B'),\"upper left\")\n",
    "\n",
    "\n",
    "def autolabel(rects):\n",
    "    # attach some text labels\n",
    "    for rect in rects:\n",
    "        height = rect.get_height()\n",
    "        ax.text(rect.get_x() + rect.get_width()/2., 0.5*height,\n",
    "                '%d' % int(height),\n",
    "                ha='center', va='bottom',color=\"white\",fontsize=15)\n",
    "\n",
    "autolabel(rects1)\n",
    "autolabel(rects2)\n",
    "\n",
    "plt.show()"
   ]
  },
  {
   "cell_type": "markdown",
   "metadata": {},
   "source": [
    "# q-q plot to check normality "
   ]
  },
  {
   "cell_type": "markdown",
   "metadata": {},
   "source": [
    "$R^2$ is the coefficient of determination from regression on q-q plot. 1 means its really close to the distribution we're testing, 0 means no correlation at all. q-q plot test against a given distribution (here the normal distribution) then for each quantile plots the number of datapoints below that % of data. "
   ]
  },
  {
   "cell_type": "code",
   "execution_count": 12,
   "metadata": {
    "collapsed": false,
    "scrolled": false
   },
   "outputs": [
    {
     "data": {
      "image/png": "[encoded data removed]",
      "text/plain": [
       "<matplotlib.figure.Figure at 0x110b5dc90>"
      ]
     },
     "metadata": {},
     "output_type": "display_data"
    },
    {
     "data": {
      "image/png": "[encoded data removed]",
      "text/plain": [
       "<matplotlib.figure.Figure at 0x110b84910>"
      ]
     },
     "metadata": {},
     "output_type": "display_data"
    },
    {
     "data": {
      "image/png": "[encoded data removed]",
      "text/plain": [
       "<matplotlib.figure.Figure at 0x110e74f10>"
      ]
     },
     "metadata": {},
     "output_type": "display_data"
    },
    {
     "data": {
      "image/png": "[encoded data removed]",
      "text/plain": [
       "<matplotlib.figure.Figure at 0x110ea4d90>"
      ]
     },
     "metadata": {},
     "output_type": "display_data"
    }
   ],
   "source": [
    "import scipy.stats as stats\n",
    "plt.figure()\n",
    "plt1 = stats.probplot(A_pretest_score, dist=\"norm\", plot=pylab)\n",
    "plt.figure()\n",
    "plt3 = stats.probplot(B_pretest_score, dist=\"norm\", plot=pylab)\n",
    "\n",
    "plt.figure()\n",
    "plt2 = stats.probplot(A_posttest_score, dist=\"norm\", plot=pylab)\n",
    "plt.figure()\n",
    "plt4 = stats.probplot(B_posttest_score, dist=\"norm\", plot=pylab)"
   ]
  },
  {
   "cell_type": "markdown",
   "metadata": {},
   "source": [
    "# Use Shapiro-Wilks to test for normality\n",
    "- works better than Kolmogorov-Smirnov test for small datasets "
   ]
  },
  {
   "cell_type": "code",
   "execution_count": 27,
   "metadata": {
    "collapsed": true
   },
   "outputs": [],
   "source": [
    "def shapiro_wilks(data,name):\n",
    "    result = stats.shapiro(data)\n",
    "    print \"{0} : W = {1} ; p ={2} ---> {3}\".format(name,np.around(result[0],2),np.around(result[1],2),pcheck(result[1],\"Normal\"))"
   ]
  },
  {
   "cell_type": "code",
   "execution_count": 28,
   "metadata": {
    "collapsed": false
   },
   "outputs": [
    {
     "name": "stdout",
     "output_type": "stream",
     "text": [
      "A pretest : W = 0.96 ; p =0.16 ---> Normal\n",
      "B pretest : W = 0.96 ; p =0.17 ---> Normal\n",
      "A posttest : W = 0.92 ; p =0.01 ---> NOT Normal\n",
      "B posttest : W = 0.96 ; p =0.09 ---> Normal\n"
     ]
    }
   ],
   "source": [
    "shapiro_wilks(A_pretest_score,\"A pretest\")\n",
    "shapiro_wilks(B_pretest_score,\"B pretest\")\n",
    "shapiro_wilks(A_posttest_score,\"A posttest\")\n",
    "shapiro_wilks(B_posttest_score,\"B posttest\")"
   ]
  },
  {
   "cell_type": "markdown",
   "metadata": {},
   "source": [
    "# Use Kolmogorov-Smirnov test to see whether data come from the same distribution "
   ]
  },
  {
   "cell_type": "code",
   "execution_count": 29,
   "metadata": {
    "collapsed": true
   },
   "outputs": [],
   "source": [
    "def kolmogorov_smirnov(data1,data2,name):\n",
    "    result = stats.ks_2samp(data1,data2)\n",
    "    print \"{0} : D = {1} ; p ={2} ---> {3}\".format(name,np.around(result[0],2),np.around(result[1],2),pcheck(result[1],\"from same distribution\"))"
   ]
  },
  {
   "cell_type": "code",
   "execution_count": 30,
   "metadata": {
    "collapsed": true
   },
   "outputs": [],
   "source": [
    "def pcheck(p,null_hyp):\n",
    "    '''\n",
    "    if p>0.05 then reject null hypothesis\n",
    "    '''\n",
    "    if p>0.05:\n",
    "        return  null_hyp\n",
    "    else:\n",
    "        return \"NOT \"+null_hyp"
   ]
  },
  {
   "cell_type": "code",
   "execution_count": 31,
   "metadata": {
    "collapsed": false
   },
   "outputs": [
    {
     "name": "stdout",
     "output_type": "stream",
     "text": [
      "Pretest : D = 0.13 ; p =0.83 ---> from same distribution\n",
      "Posttest : D = 0.43 ; p =0.0 ---> NOT from same distribution\n"
     ]
    }
   ],
   "source": [
    "kolmogorov_smirnov(A_pretest_score,B_pretest_score,\"Pretest\")\n",
    "kolmogorov_smirnov(A_posttest_score,B_posttest_score,\"Posttest\")"
   ]
  },
  {
   "cell_type": "markdown",
   "metadata": {},
   "source": [
    "# Welch's t test to test whether there is significant difference between the two distributions "
   ]
  },
  {
   "cell_type": "markdown",
   "metadata": {},
   "source": [
    "no significant difference in the means between the two groups"
   ]
  },
  {
   "cell_type": "code",
   "execution_count": 18,
   "metadata": {
    "collapsed": true
   },
   "outputs": [],
   "source": [
    "def unpaired_Welch_t(data1,data2,name):\n",
    "    result =  stats.ttest_ind(a= data1,b= data2,equal_var=False)\n",
    "#     print result\n",
    "    print \"{0} : t = {1} ; p ={2} ---> {3}\".format(name,np.around(result[0],2),np.around(result[1],5),pcheck(result[1],\"no significant different in the means of the two groups\"))"
   ]
  },
  {
   "cell_type": "code",
   "execution_count": 19,
   "metadata": {
    "collapsed": false
   },
   "outputs": [
    {
     "name": "stdout",
     "output_type": "stream",
     "text": [
      "Pretest : t = 0.22 ; p =0.82934 ---> no significant different in the means of the two groups\n",
      "Posttest : t = -4.19 ; p =7e-05 ---> NOT no significant different in the means of the two groups\n"
     ]
    }
   ],
   "source": [
    "unpaired_Welch_t(A_pretest_score,B_pretest_score,\"Pretest\")\n",
    "unpaired_Welch_t(A_posttest_score,B_posttest_score,\"Posttest\")"
   ]
  },
  {
   "cell_type": "markdown",
   "metadata": {},
   "source": [
    "##### We have a significant difference in learning score with a medium ~ large effect size "
   ]
  },
  {
   "cell_type": "markdown",
   "metadata": {},
   "source": [
    "Cohen's d characterizes the mean difference and Hedge's g is the unbiased estimate of Cohen's d which is esp good for small sample size . "
   ]
  },
  {
   "cell_type": "code",
   "execution_count": 26,
   "metadata": {
    "collapsed": false
   },
   "outputs": [
    {
     "name": "stdout",
     "output_type": "stream",
     "text": [
      "A <- c(40.0,11.1111111111,50.0,22.2222222222,100.0,30.0,60.0,25.0,28.5714285714,50.0,50.0,50.0,60.0,30.0,60.0,100.0,40.0,55.5555555556,85.7142857143,12.5,85.7142857143,50.0,30.0,100.0,88.8888888889,11.1111111111,33.3333333333,40.0,22.2222222222,50.0,33.3333333333,30.0,30.0,55.5555555556,33.3333333333,40.0,33.3333333333,66.6666666667,66.6666666667,20.0) \n",
      "\n",
      "B <- c(80.0,50.0,100.0,90.0,80.0,60.0,33.3333333333,50.0,50.0,90.0,70.0,66.6666666667,80.0,75.0,66.6666666667,30.0,60.0,60.0,40.0,80.0,30.0,66.6666666667,80.0,70.0,66.6666666667,90.0,60.0,100.0,90.0,50.0,50.0,50.0,70.0,50.0,50.0,100.0,28.5714285714,60.0,80.0,100.0,100.0,87.5,70.0,70.0) \n",
      "\n",
      "t.test(A,B, var.equal=F)\n"
     ]
    }
   ],
   "source": [
    "print \"A <- c(\"+ ','.join(str(p) for p in A_posttest_score)+\") \\n\"\n",
    "print \"B <- c(\"+ ','.join(str(p) for p in B_posttest_score)+\") \\n\"\n",
    "print \"t.test(A,B, var.equal=F)\""
   ]
  },
  {
   "cell_type": "raw",
   "metadata": {},
   "source": [
    "\tWelch Two Sample t-test\n",
    "\n",
    "data:  A and B\n",
    "t = -4.1893, df = 75.862, p-value = 7.479e-05\n",
    "alternative hypothesis: true difference in means is not equal to 0\n",
    "95 percent confidence interval:\n",
    " -30.58687 -10.87471\n",
    "sample estimates:\n",
    "mean of x mean of y \n",
    " 47.02083  67.75162 "
   ]
  },
  {
   "cell_type": "code",
   "execution_count": 21,
   "metadata": {
    "collapsed": false
   },
   "outputs": [
    {
     "name": "stdout",
     "output_type": "stream",
     "text": [
      "---------------------------------------------------------------------------------\n",
      "\n",
      "A < B\n",
      "A: mu = 47.021; std = 24.287\n",
      "B: mu = 67.752; std = 20.065\n",
      "A : W = 0.92 ; p =0.00875746365637 ---> NOT Normal\n",
      "B : W = 0.96 ; p =0.0893302634358 ---> Normal\n",
      "KS test : D = 0.43 ; p =0.0 ---> NOT from same distribution\n",
      "Welch's t-test : t = -4.19 ; p =7e-05 ---> NOT no significant different in the means of the two groups\n",
      "Cohen's d\n",
      "\n",
      "d estimate: -0.9236338 (large)\n",
      "\n",
      "95 percent confidence interval:\n",
      "\n",
      "      inf       sup \n",
      "\n",
      "-1.386851 -0.460417 \n",
      "\n",
      "------------------------\n",
      "Hedges's g\n",
      "\n",
      "g estimate: -0.9151601 (large)\n",
      "\n",
      "95 percent confidence interval:\n",
      "\n",
      "       inf        sup \n",
      "\n",
      "-1.3779610 -0.4523593 \n",
      "\n",
      "------------------------\n"
     ]
    }
   ],
   "source": [
    "run_all_my_analysis(A_posttest_score,B_posttest_score)"
   ]
  },
  {
   "cell_type": "code",
   "execution_count": 23,
   "metadata": {
    "collapsed": false
   },
   "outputs": [
    {
     "name": "stdout",
     "output_type": "stream",
     "text": [
      "---------------------------------------------------------------------------------\n",
      "\n",
      "Median\n",
      "A:  40.0\n",
      "B:  68.3333333333\n",
      "A < B\n",
      "------\n",
      "A: mu = 47.021; std = 24.287\n",
      "B: mu = 67.752; std = 20.065\n",
      "A : W = 0.92 ; p =0.00875746365637 ---> NOT Normal\n",
      "B : W = 0.96 ; p =0.0893302634358 ---> Normal\n",
      "\tWilcoxon rank sum test with continuity correction\n",
      "\n",
      "data:  GroupA and GroupB\n",
      "\n",
      " : p =6.769e-05 ---> NOT from same population\n",
      "W = 436.5, p-value = 6.769e-05\n",
      "\n",
      "alternative hypothesis: true location shift is not equal to 0\n",
      "\n",
      "\tExact Wilcoxon-Mann-Whitney Test\n",
      "\n",
      "data:  v by g (GroupA, GroupB)\n",
      "\n",
      "Effect Size  = 0.435213760287 -----> Medium\n",
      "Z = -3.9888, p-value = 4.3e-05\n",
      "\n",
      "alternative hypothesis: true mu is not equal to 0\n",
      "\n",
      "Mean ranks of group\n",
      "[1] 31.4125\n",
      "\n",
      "Mean ranks of group\n",
      "[1] 52.57955\n",
      "\n"
     ]
    }
   ],
   "source": [
    "run_all_non_parametric_analysis(A_posttest_score,B_posttest_score)"
   ]
  },
  {
   "cell_type": "markdown",
   "metadata": {},
   "source": [
    "# Uncertainty "
   ]
  },
  {
   "cell_type": "code",
   "execution_count": 32,
   "metadata": {
    "collapsed": true
   },
   "outputs": [],
   "source": [
    "from  stats_helper import *"
   ]
  },
  {
   "cell_type": "code",
   "execution_count": 33,
   "metadata": {
    "collapsed": false
   },
   "outputs": [],
   "source": [
    "A_pre_uncertain = np.array(A_summary_stats['pre_uncertain'])\n",
    "B_pre_uncertain = np.array(B_summary_stats['pre_uncertain'])\n",
    "A_post_uncertain = np.array(A_summary_stats['post_uncertain'])\n",
    "B_post_uncertain = np.array(B_summary_stats['post_uncertain'])"
   ]
  },
  {
   "cell_type": "code",
   "execution_count": 36,
   "metadata": {
    "collapsed": false
   },
   "outputs": [
    {
     "name": "stdout",
     "output_type": "stream",
     "text": [
      "pre_uncertain : D = 0.23 ; p =0.16 ---> from same distribution\n"
     ]
    }
   ],
   "source": [
    "kolmogorov_smirnov(A_pre_uncertain,B_pre_uncertain,\"pre_uncertain\")"
   ]
  },
  {
   "cell_type": "code",
   "execution_count": 37,
   "metadata": {
    "collapsed": false
   },
   "outputs": [
    {
     "name": "stdout",
     "output_type": "stream",
     "text": [
      "---------------------------------------------------------------------------------\n",
      "pre_uncertain\n",
      "Median\n",
      "A:  2.0\n",
      "B:  4.0\n",
      "A < B\n",
      "------\n",
      "A: mu = 2.957; std = 3.106\n",
      "B: mu = 4.021; std = 3.393\n",
      "A : W = 0.84 ; p =1.78970003617e-05 ---> NOT Normal\n",
      "B : W = 0.9 ; p =0.000549959368072 ---> NOT Normal\n",
      "\tWilcoxon rank sum test with continuity correction\n",
      "\n",
      "data:  GroupA and GroupB\n",
      "\n",
      "W = 895, p-value = 0.1495\n",
      "\n",
      "alternative hypothesis: true location shift is not equal to 0\n",
      "\n",
      "\tExact Wilcoxon-Mann-Whitney Test\n",
      "\n",
      "data:  v by g (GroupA, GroupB)\n",
      "\n",
      "Effect Size  = 0.149860258922 -----> Small\n",
      "Z = -1.4452, p-value = 0.1495\n",
      "\n",
      "alternative hypothesis: true mu is not equal to 0\n",
      "\n",
      "Mean ranks of group\n",
      "[1] 42.95652\n",
      "\n",
      "Mean ranks of group\n",
      "[1] 50.95745\n",
      "\n"
     ]
    }
   ],
   "source": [
    "run_all_non_parametric_analysis(A_pre_uncertain,B_pre_uncertain,\"pre_uncertain\")"
   ]
  },
  {
   "cell_type": "code",
   "execution_count": 38,
   "metadata": {
    "collapsed": false
   },
   "outputs": [
    {
     "name": "stdout",
     "output_type": "stream",
     "text": [
      "---------------------------------------------------------------------------------\n",
      "post_uncertain\n",
      "Median\n",
      "A:  1.0\n",
      "B:  0.0\n",
      "A > B\n",
      "------\n",
      "A: mu = 2.261; std = 2.967\n",
      "B: mu = 0.468; std = 1.007\n",
      "A : W = 0.75 ; p =1.76145988462e-07 ---> NOT Normal\n",
      "B : W = 0.53 ; p =4.76553067841e-11 ---> NOT Normal\n",
      "\tWilcoxon rank sum test with continuity correction\n",
      "\n",
      "data:  GroupA and GroupB\n",
      "\n",
      "W = 1545.5, p-value = 7.378e-05\n",
      "\n",
      "alternative hypothesis: true location shift is not equal to 0\n",
      "\n",
      "\tExact Wilcoxon-Mann-Whitney Test\n",
      "\n",
      "data:  v by g (GroupA, GroupB)\n",
      "\n",
      "Effect Size  = 0.411462432469 -----> Medium\n",
      "post_uncertain : p =5.202e-05 ---> NOT from same population\n",
      "Z = 3.968, p-value = 5.202e-05\n",
      "\n",
      "alternative hypothesis: true mu is not equal to 0\n",
      "\n",
      "Mean ranks of group\n",
      "[1] 57.09783\n",
      "\n",
      "Mean ranks of group\n",
      "[1] 37.11702\n",
      "\n"
     ]
    }
   ],
   "source": [
    "run_all_non_parametric_analysis(A_post_uncertain,B_post_uncertain,abbrev=\"post_uncertain\")"
   ]
  },
  {
   "cell_type": "code",
   "execution_count": 7,
   "metadata": {
    "collapsed": true
   },
   "outputs": [],
   "source": [
    "import scipy.stats as stats"
   ]
  },
  {
   "cell_type": "code",
   "execution_count": 13,
   "metadata": {
    "collapsed": false
   },
   "outputs": [
    {
     "name": "stdout",
     "output_type": "stream",
     "text": [
      "A: mu = 2.579; std = 2.926\n",
      "B: mu = 4.655; std = 3.467\n"
     ]
    }
   ],
   "source": [
    "basic_stats(A_pre_uncertain,B_pre_uncertain)"
   ]
  },
  {
   "cell_type": "code",
   "execution_count": 10,
   "metadata": {
    "collapsed": false
   },
   "outputs": [
    {
     "data": {
      "text/plain": [
       "(359.5, 0.0072034584878341423)"
      ]
     },
     "execution_count": 10,
     "metadata": {},
     "output_type": "execute_result"
    }
   ],
   "source": [
    "stats.mannwhitneyu(A_pre_uncertain,B_pre_uncertain)"
   ]
  },
  {
   "cell_type": "code",
   "execution_count": 14,
   "metadata": {
    "collapsed": false
   },
   "outputs": [
    {
     "name": "stdout",
     "output_type": "stream",
     "text": [
      "A: mu = 2.263; std = 2.962\n",
      "B: mu = 0.345; std = 0.755\n"
     ]
    }
   ],
   "source": [
    "basic_stats(A_post_uncertain,B_post_uncertain)"
   ]
  },
  {
   "cell_type": "code",
   "execution_count": 12,
   "metadata": {
    "collapsed": false
   },
   "outputs": [
    {
     "data": {
      "text/plain": [
       "(295.0, 0.00018567222326173555)"
      ]
     },
     "execution_count": 12,
     "metadata": {},
     "output_type": "execute_result"
    }
   ],
   "source": [
    "stats.mannwhitneyu(A_post_uncertain,B_post_uncertain)"
   ]
  },
  {
   "cell_type": "code",
   "execution_count": 22,
   "metadata": {
    "collapsed": false
   },
   "outputs": [],
   "source": [
    "Adelta_uncertain = A_pre_uncertain - A_post_uncertain\n",
    "Bdelta_uncertain = B_pre_uncertain - B_post_uncertain"
   ]
  },
  {
   "cell_type": "code",
   "execution_count": 17,
   "metadata": {
    "collapsed": false
   },
   "outputs": [
    {
     "name": "stdout",
     "output_type": "stream",
     "text": [
      "A: mu = -0.316; std = 1.558\n",
      "B: mu = -4.31; std = 3.364\n",
      "A : W = 0.67 ; p =6.1317841471e-08 ---> NOT Normal\n",
      "B : W = 0.91 ; p =0.0172697808594 ---> NOT Normal\n",
      "KS test : D = 0.61 ; p =0.0 ---> NOT from same distribution\n",
      "Welch's t-test : t = 5.83 ; p =0.0 ---> NOT no significant different in the means of the two groups\n",
      "Cohen's d\n",
      "\n",
      "d estimate: 1.570669 (large)\n",
      "\n",
      "95 percent confidence interval:\n",
      "\n",
      "      inf       sup \n",
      "\n",
      "0.9979742 2.1433645 \n",
      "\n",
      "------------------------\n",
      "Hedges's g\n",
      "\n",
      "g estimate: 1.552476 (large)\n",
      "\n",
      "95 percent confidence interval:\n",
      "\n",
      "      inf       sup \n",
      "\n",
      "0.9813521 2.1236004 \n",
      "\n",
      "------------------------\n"
     ]
    }
   ],
   "source": [
    "run_all_my_analysis(Adelta_uncertain,Bdelta_uncertain,abbrev=\"delta_uncertain\")"
   ]
  },
  {
   "cell_type": "code",
   "execution_count": 23,
   "metadata": {
    "collapsed": false
   },
   "outputs": [
    {
     "data": {
      "text/plain": [
       "(134.0, 3.031526466602441e-08)"
      ]
     },
     "execution_count": 23,
     "metadata": {},
     "output_type": "execute_result"
    }
   ],
   "source": [
    "stats.mannwhitneyu(Adelta_uncertain,Bdelta_uncertain)"
   ]
  },
  {
   "cell_type": "code",
   "execution_count": 25,
   "metadata": {
    "collapsed": false
   },
   "outputs": [
    {
     "name": "stdout",
     "output_type": "stream",
     "text": [
      "GroupA <- c(0,1,1,0,1,0,0,1,0,-1,2,5,-1,7,0,0,-1,-2,-1,0,0,-1,0,0,0,1,0,0,-1,0,0,0,0,0,0,-1,1,1) \n",
      "\n",
      "GroupB <- c(7,0,9,8,10,6,0,3,5,2,1,10,1,1,6,0,7,1,3,4,0,7,4,9,3,10,1,2,5) \n",
      "\n"
     ]
    }
   ],
   "source": [
    "ncol = len(data1)\n",
    "data1 = Adelta_uncertain\n",
    "data2 = Bdelta_uncertain\n",
    "print \"GroupA <- c(\"+ ','.join(str(p) for p in data1)+\") \\n\".format(ncol)\n",
    "print \"GroupB <- c(\"+ ','.join(str(p) for p in data2)+\") \\n\".format(ncol)"
   ]
  },
  {
   "cell_type": "code",
   "execution_count": 31,
   "metadata": {
    "collapsed": false
   },
   "outputs": [
    {
     "name": "stdout",
     "output_type": "stream",
     "text": [
      "0.0\n",
      "4.0\n"
     ]
    }
   ],
   "source": [
    "print median(Adelta_uncertain)\n",
    "print median(Bdelta_uncertain)"
   ]
  },
  {
   "cell_type": "raw",
   "metadata": {},
   "source": [
    "> GroupA <- c(0,1,1,0,1,0,0,1,0,-1,2,5,-1,7,0,0,-1,-2,-1,0,0,-1,0,0,0,1,0,0,-1,0,0,0,0,0,0,-1,1,1) \n",
    "> \n",
    "> GroupB <- c(7,0,9,8,10,6,0,3,5,2,1,10,1,1,6,0,7,1,3,4,0,7,4,9,3,10,1,2,5) \n",
    "\n",
    "> wilcox.test(dataA,dataB)\n",
    "\n",
    "\tWilcoxon rank sum test with continuity correction\n",
    "\n",
    "data:  dataA and dataB\n",
    "W = 134, p-value = 6.063e-08\n",
    "alternative hypothesis: true location shift is not equal to 0\n",
    "\n",
    "> library(coin)\n",
    "> A = split(data,data$g)\n",
    "> g = factor(c(rep(\"GroupA\", length(GroupA)), rep(\"GroupB\", length(GroupB))))\n",
    "> v = c(GroupA, GroupB)\n",
    "> wilcox_test(v ~ g, distribution=\"exact\")\n",
    "\n",
    "\tExact Wilcoxon-Mann-Whitney Test\n",
    "\n",
    "data:  v by g (GroupA, GroupB)\n",
    "Z = -5.4234, p-value = 4.093e-09\n",
    "alternative hypothesis: true mu is not equal to 0\n",
    "\n",
    "        \n",
    "> mean(A$GroupA$r)\n",
    "[1] 23.02632\n",
    "> mean(A$GroupB$r)\n",
    "[1] 48.37931\n"
   ]
  },
  {
   "cell_type": "markdown",
   "metadata": {},
   "source": [
    "Effect size (r) $$ r = \\frac{Z}{\\sqrt{N}}$$"
   ]
  },
  {
   "cell_type": "code",
   "execution_count": 33,
   "metadata": {
    "collapsed": false
   },
   "outputs": [
    {
     "name": "stdout",
     "output_type": "stream",
     "text": [
      "r =  -0.662573764522\n"
     ]
    }
   ],
   "source": [
    "print \"r = \", -5.4234/sqrt(len(Adelta_uncertain)+len(Bdelta_uncertain))"
   ]
  },
  {
   "cell_type": "markdown",
   "metadata": {},
   "source": [
    "The medians of Group A and Group B were 0 and 4,respectively. The Mann-Whitney's U test showed a significant effect in the decrease of uncertainty of Group B over Group A(U = 134, Z = -5.42, p =4.09e-9, r = 0.66). The mean ranks of Group A and Group B were 7.8 and 13.2, respectively."
   ]
  },
  {
   "cell_type": "markdown",
   "metadata": {},
   "source": [
    "# Scaffolding design "
   ]
  },
  {
   "cell_type": "code",
   "execution_count": 17,
   "metadata": {
    "collapsed": false
   },
   "outputs": [],
   "source": [
    "easy = np.array(B_summary_stats[\"easy_count\"])\n",
    "medium = np.array(B_summary_stats[\"med_count\"])\n",
    "hard = np.array(B_summary_stats[\"hard_count\"])"
   ]
  },
  {
   "cell_type": "markdown",
   "metadata": {},
   "source": [
    "# To Do :\n",
    "\n",
    "- Look at presentation of data, maybe better to do statistics on $\\Delta$score? \n",
    "\n",
    "        A = (A_summary_stats['pre_correct']-A_summary_stats['post_correct']).fillna(0)/10.\n",
    "        B = (B_summary_stats['pre_correct']-B_summary_stats['post_correct']).fillna(0)/10.\n",
    "- Look at how uncertainty "
   ]
  }
 ],
 "metadata": {
  "kernelspec": {
   "display_name": "Python 2",
   "language": "python",
   "name": "python2"
  },
  "language_info": {
   "codemirror_mode": {
    "name": "ipython",
    "version": 2
   },
   "file_extension": ".py",
   "mimetype": "text/x-python",
   "name": "python",
   "nbconvert_exporter": "python",
   "pygments_lexer": "ipython2",
   "version": "2.7.10"
  }
 },
 "nbformat": 4,
 "nbformat_minor": 0
}
