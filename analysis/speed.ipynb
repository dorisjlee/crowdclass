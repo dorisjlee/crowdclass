{
 "cells": [
  {
   "cell_type": "markdown",
   "metadata": {},
   "source": [
    "### RQ3 : Microtask learning increases classification speed\n",
    "####  Null hypothesis: There is no difference in {learning, motivation, classification accruacy} between Group A and Group B"
   ]
  },
  {
   "cell_type": "code",
   "execution_count": 41,
   "metadata": {
    "collapsed": false
   },
   "outputs": [
    {
     "name": "stdout",
     "output_type": "stream",
     "text": [
      "Populating the interactive namespace from numpy and matplotlib\n"
     ]
    }
   ],
   "source": [
    "%pylab inline\n",
    "import pandas as pd \n",
    "import fnmatch\n",
    "import scipy.stats as stats\n",
    "import os\n",
    "from collections import Counter\n",
    "from  stats_helper import *"
   ]
  },
  {
   "cell_type": "code",
   "execution_count": 42,
   "metadata": {
    "collapsed": false
   },
   "outputs": [],
   "source": [
    "users = pd.read_csv(\"Crowdclass_Data.csv\")\n",
    "dataA = users[users[\"Group\"]==\"A\"]\n",
    "dataB = users[users[\"Group\"]==\"B\"]"
   ]
  },
  {
   "cell_type": "markdown",
   "metadata": {},
   "source": [
    "# Using speed computed by $N_{classified}/t_{total}$"
   ]
  },
  {
   "cell_type": "code",
   "execution_count": 45,
   "metadata": {
    "collapsed": false
   },
   "outputs": [],
   "source": [
    "usersA  =pd.read_csv(\"../zooniverse/scripts/analysis/user_summary_statistics.csv\")\n",
    "usersB  =pd.read_csv(\"../crowdclass/scripts/analysis/user_summary_statistics.csv\")\n",
    "good_Users_A = [2638,3957,1055,2506,7791,5872,7452,6082,9727,7339,8049,48427,54352,24066,90272,4315,38914,4332,9365,2335,5028,18887,30558,5817,7669,29984,2626,7620,8146,2006,9815,4056,9359,2117,4074,27757,6900,4991,905944,751312,515490,485687,389806,177353,9314530,4697455]\n",
    "dataA = usersA.loc[usersA['ID'].isin(good_Users_A)]\n",
    "good_Users_B = [6351,1,3150,3047,8408,9595,5934,2141,2271,3757,5530,8262,4166,7324,8349,4067,2025,14764,53473,14171,81398,7464,7093,3291,8358,3859,4939,5599,3850,950726,926578,917524,760806,597906,590162,427414,358949,233442,118521]\n",
    "dataB = usersB.loc[usersB['ID'].isin(good_Users_B)]"
   ]
  },
  {
   "cell_type": "code",
   "execution_count": 46,
   "metadata": {
    "collapsed": false
   },
   "outputs": [],
   "source": [
    "A = np.array(dataA[\"avrg_speed\"])*60 #img_classified / minute\n",
    "B = np.array(dataB[\"avrg_speed\"])*60 "
   ]
  },
  {
   "cell_type": "code",
   "execution_count": 47,
   "metadata": {
    "collapsed": false
   },
   "outputs": [
    {
     "name": "stdout",
     "output_type": "stream",
     "text": [
      "A: mu = 1.759; std = 0.813\n",
      "B: mu = 2.644; std = 2.134\n"
     ]
    }
   ],
   "source": [
    "basic_stats(A,B)"
   ]
  },
  {
   "cell_type": "code",
   "execution_count": 48,
   "metadata": {
    "collapsed": false
   },
   "outputs": [],
   "source": [
    "# plt.figure()\n",
    "# plt.hist(A,label=\"A\",alpha=0.5)\n",
    "# plt.hist(B,label=\"B\",alpha=0.5)\n",
    "# plt.legend()"
   ]
  },
  {
   "cell_type": "markdown",
   "metadata": {},
   "source": [
    "The overall speed for the participants is about the same. "
   ]
  },
  {
   "cell_type": "code",
   "execution_count": 96,
   "metadata": {
    "collapsed": false
   },
   "outputs": [],
   "source": [
    "def single_bar_chart(dataA,dataB, N=1,width=0.3,title=\"\"):\n",
    "    AMeans = mean(dataA)\n",
    "    BMeans = mean(dataB)\n",
    "    # Astd = [std(dataA), std(A_posttest_score)]\n",
    "    # Bstd =[std(dataB), std(B_posttest_score)]\n",
    "    A_yerr = np.array(stats.t.interval(0.95,len(dataA)-1,loc = mean(dataA), scale=stats.sem(dataA))- mean(dataA))\n",
    "    B_yerr = np.array(stats.t.interval(0.95,len(dataB)-1,loc = mean(dataB), scale=stats.sem(dataB))- mean(dataB))\n",
    "    ind = np.arange(N)  # the x locations for the groups\n",
    "    ax = plt.subplot(121)\n",
    "    rects1 = ax.bar(ind, mean(dataA), width=width, color='r',ecolor= \"black\",yerr = A_yerr[0])\n",
    "    rects2 = ax.bar( ind+width, mean(dataB), width=width, color='b',ecolor= \"black\",yerr = B_yerr[0])\n",
    "\n",
    "    # add some text for labels, title and axes ticks\n",
    "#     ax.set_ylabel('Rate [images/min]',fontsize=14)\n",
    "    ax.set_title(title,fontsize=16)\n",
    "    ax.set_xticks([width])\n",
    "    ax.set_xticklabels((''),fontsize=14)\n",
    "    ax.set_yticklabels(np.arange(0,3.6,0.5),fontsize=13)\n",
    "    ax.legend((rects1[0], rects2[0]), ('A', 'B'),\"upper left\")\n",
    "    def autolabel(rects):\n",
    "        # attach some text labels\n",
    "        for rect in rects:\n",
    "            height = rect.get_height()\n",
    "            ax.text(rect.get_x() + rect.get_width()/2., 0.5*height,\n",
    "                    '%.2f' % float(height),\n",
    "                    ha='center', va='bottom',color=\"white\",fontsize=15)\n",
    "\n",
    "    autolabel(rects1)\n",
    "    autolabel(rects2)\n",
    "    print AMeans, BMeans, A_yerr,B_yerr"
   ]
  },
  {
   "cell_type": "code",
   "execution_count": 97,
   "metadata": {
    "collapsed": false
   },
   "outputs": [
    {
     "name": "stdout",
     "output_type": "stream",
     "text": [
      "1.75919021621 2.6444500171 [-0.24  0.24] [-0.7  0.7]\n"
     ]
    },
    {
     "data": {
      "image/png": "[encoded data removed]",
      "text/plain": [
       "<matplotlib.figure.Figure at 0x10ba268d0>"
      ]
     },
     "metadata": {},
     "output_type": "display_data"
    }
   ],
   "source": [
    "single_bar_chart(A,B,width=0.1,title=\"Speed\")"
   ]
  },
  {
   "cell_type": "code",
   "execution_count": 51,
   "metadata": {
    "collapsed": false
   },
   "outputs": [
    {
     "data": {
      "image/png": "[encoded data removed]",
      "text/plain": [
       "<matplotlib.figure.Figure at 0x107f72550>"
      ]
     },
     "metadata": {},
     "output_type": "display_data"
    }
   ],
   "source": [
    "plt.figure()\n",
    "plt1 = stats.probplot(A, dist=\"norm\", plot=pylab)"
   ]
  },
  {
   "cell_type": "code",
   "execution_count": 52,
   "metadata": {
    "collapsed": false
   },
   "outputs": [
    {
     "data": {
      "image/png": "[encoded data removed]",
      "text/plain": [
       "<matplotlib.figure.Figure at 0x107e2b7d0>"
      ]
     },
     "metadata": {},
     "output_type": "display_data"
    }
   ],
   "source": [
    "plt2 = stats.probplot(B, dist=\"norm\", plot=pylab)"
   ]
  },
  {
   "cell_type": "code",
   "execution_count": 53,
   "metadata": {
    "collapsed": false,
    "scrolled": false
   },
   "outputs": [
    {
     "name": "stdout",
     "output_type": "stream",
     "text": [
      "---------------------------------------------------------------------------------\n",
      "\n",
      "Median\n",
      "A:  1.71455153034\n",
      "B:  2.01066260472\n",
      "A < B\n",
      "------\n",
      "A: mu = 1.759; std = 0.813\n",
      "B: mu = 2.644; std = 2.134\n",
      "A : W = 0.96 ; p =0.124802418053 ---> Normal\n",
      "B : W = 0.68 ; p =6.09086754366e-08 ---> NOT Normal\n",
      "\tWilcoxon rank sum test\n",
      "\n",
      "data:  GroupA and GroupB\n",
      "\n",
      "W = 683, p-value = 0.05946\n",
      "\n",
      "alternative hypothesis: true location shift is not equal to 0\n",
      "\n",
      "\tExact Wilcoxon-Mann-Whitney Test\n",
      "\n",
      "data:  v by g (GroupA, GroupB)\n",
      "\n",
      "Effect Size  = 0.204706426521 -----> Small\n",
      "Z = -1.8873, p-value = 0.05946\n",
      "\n",
      "alternative hypothesis: true mu is not equal to 0\n",
      "\n",
      "Mean ranks of group\n",
      "[1] 38.34783\n",
      "\n",
      "Mean ranks of group\n",
      "[1] 48.48718\n",
      "\n"
     ]
    }
   ],
   "source": [
    "run_all_non_parametric_analysis(A,B)"
   ]
  },
  {
   "cell_type": "markdown",
   "metadata": {},
   "source": [
    "- multiselect problem harder cognitively than T/F questions \n",
    "- that might also explain why they classify worse in accuracy "
   ]
  },
  {
   "cell_type": "markdown",
   "metadata": {},
   "source": [
    "do the weighted analysis, see if people in group A struggled more with the odd/merger/dustalne type question ? \n"
   ]
  },
  {
   "cell_type": "markdown",
   "metadata": {},
   "source": [
    "# Content dt \n",
    "\n",
    "- Okay right, the two groups are about the same within the questions,  but how long does it take the users to read the content? Remember this is overhead for Crowdclass which doesn't even exist in GZ "
   ]
  },
  {
   "cell_type": "code",
   "execution_count": 54,
   "metadata": {
    "collapsed": false
   },
   "outputs": [],
   "source": [
    "content_dt_headers = fnmatch.filter(list(usersB.columns),\"content_dt*\")"
   ]
  },
  {
   "cell_type": "code",
   "execution_count": 55,
   "metadata": {
    "collapsed": false
   },
   "outputs": [],
   "source": [
    "content_dt = usersB[content_dt_headers].dropna()"
   ]
  },
  {
   "cell_type": "code",
   "execution_count": 56,
   "metadata": {
    "collapsed": false
   },
   "outputs": [],
   "source": [
    "avrg_content_time = []\n",
    "for i in content_dt.iterrows():\n",
    "    arr = np.array(i[1][nonzero(i[1])[0]])\n",
    "    if arr!=[]:\n",
    "        avrg_content_time.append(np.mean(arr))"
   ]
  },
  {
   "cell_type": "code",
   "execution_count": 57,
   "metadata": {
    "collapsed": false
   },
   "outputs": [
    {
     "data": {
      "text/plain": [
       "(array([ 16.,  32.,  10.,   5.,   2.,   1.,   1.,   2.,   1.,   1.]),\n",
       " array([  1.73,   7.18,  12.63,  18.07,  23.52,  28.96,  34.41,  39.86,\n",
       "         45.3 ,  50.75,  56.19]),\n",
       " <a list of 10 Patch objects>)"
      ]
     },
     "execution_count": 57,
     "metadata": {},
     "output_type": "execute_result"
    },
    {
     "data": {
      "image/png": "[encoded data removed]",
      "text/plain": [
       "<matplotlib.figure.Figure at 0x107f72190>"
      ]
     },
     "metadata": {},
     "output_type": "display_data"
    }
   ],
   "source": [
    "plt.hist(avrg_content_time)"
   ]
  },
  {
   "cell_type": "code",
   "execution_count": 58,
   "metadata": {
    "collapsed": false
   },
   "outputs": [
    {
     "name": "stdout",
     "output_type": "stream",
     "text": [
      "Content : W = 0.73 ; p =4.10585093702e-10 ---> NOT Normal\n"
     ]
    }
   ],
   "source": [
    "shapiro_wilks(avrg_content_time,\"Content\")"
   ]
  },
  {
   "cell_type": "code",
   "execution_count": 59,
   "metadata": {
    "collapsed": false
   },
   "outputs": [
    {
     "name": "stdout",
     "output_type": "stream",
     "text": [
      "A: mu = 13.124; std = 10.637\n"
     ]
    }
   ],
   "source": [
    "basic_stats(avrg_content_time,\"\",mode=\"single\")"
   ]
  }
 ],
 "metadata": {
  "kernelspec": {
   "display_name": "Python 2",
   "language": "python",
   "name": "python2"
  },
  "language_info": {
   "codemirror_mode": {
    "name": "ipython",
    "version": 2
   },
   "file_extension": ".py",
   "mimetype": "text/x-python",
   "name": "python",
   "nbconvert_exporter": "python",
   "pygments_lexer": "ipython2",
   "version": "2.7.10"
  }
 },
 "nbformat": 4,
 "nbformat_minor": 0
}
