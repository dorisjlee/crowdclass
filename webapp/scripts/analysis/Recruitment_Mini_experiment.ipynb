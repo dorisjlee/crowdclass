{
 "cells": [
  {
   "cell_type": "code",
   "execution_count": 2,
   "metadata": {
    "collapsed": false
   },
   "outputs": [
    {
     "name": "stdout",
     "output_type": "stream",
     "text": [
      "Populating the interactive namespace from numpy and matplotlib\n"
     ]
    }
   ],
   "source": [
    "%pylab inline\n",
    "import pandas as pd \n",
    "import fnmatch\n",
    "import os\n",
    "from collections import Counter\n",
    "from helper import *"
   ]
  },
  {
   "cell_type": "code",
   "execution_count": 4,
   "metadata": {
    "collapsed": true
   },
   "outputs": [],
   "source": [
    "user_study_data = pd.read_csv(\"user_summary_statistics.csv\")\n",
    "headers = list(user_study_data.columns)\n",
    "filtered_headers = fnmatch.filter(headers, 'accuracy_*') "
   ]
  },
  {
   "cell_type": "code",
   "execution_count": 16,
   "metadata": {
    "collapsed": true
   },
   "outputs": [],
   "source": [
    "Aheaders = list(groupA_data.columns)\n",
    "Afiltered_headers = fnmatch.filter(Aheaders, 'accuracy_*') \n",
    "Bheaders = list(groupB_data.columns)\n",
    "Bfiltered_headers = fnmatch.filter(Bheaders, 'accuracy_*') "
   ]
  },
  {
   "cell_type": "markdown",
   "metadata": {},
   "source": [
    "#### Mini-experiment with recruitment : "
   ]
  },
  {
   "cell_type": "raw",
   "metadata": {},
   "source": [
    "Group I : Biased recruitment (14 participants)\n",
    "Group II : De-biased recruitment(14 participants)\n",
    "    \n",
    "Recorded : \n",
    "num_CS_experience = (1/14., 10/14.)\n",
    "astro_know  = (2.66667,6.16666)\n",
    "astro_interest  = (5.08333,8.642857)\n",
    "sci_interest  = (6.83333 ,8.92857)"
   ]
  },
  {
   "cell_type": "code",
   "execution_count": 46,
   "metadata": {
    "collapsed": false
   },
   "outputs": [
    {
     "name": "stdout",
     "output_type": "stream",
     "text": [
      "14\n",
      "14\n",
      "14\n",
      "6.28571428571\n",
      "8.64285714286\n",
      "8.92857142857\n"
     ]
    }
   ],
   "source": [
    "I_astro_know = [9,5,5,9,7,9,5,6,8,7,8,1,8,1]\n",
    "I_astro_interest = [10,8,8,9,7,7,5,10,10,7,10,10,10,10]\n",
    "I_sci_interest = [10,10,5,10,8,9,7,10,10,10,8,10,10,8]\n",
    "print len(I_astro_know)\n",
    "print len(I_astro_interest)\n",
    "print len(I_sci_interest)\n",
    "print mean(I_astro_know)\n",
    "print mean(I_astro_interest)\n",
    "print mean(I_sci_interest)"
   ]
  },
  {
   "cell_type": "code",
   "execution_count": 47,
   "metadata": {
    "collapsed": false
   },
   "outputs": [
    {
     "name": "stdout",
     "output_type": "stream",
     "text": [
      "14\n",
      "14\n",
      "14\n",
      "2.92857142857\n",
      "5.35714285714\n",
      "7.14285714286\n"
     ]
    }
   ],
   "source": [
    "II_astro_know  = [1,3,2,1,1,6,5,4,1,2,5,1,3,6]\n",
    "II_astro_interest = [4,5,6,3,2,10,5,6,5,5,5,5,6,8]\n",
    "II_sci_interest = [6,8,10,1,3,10,5,8,10,9,7,5,8,10]\n",
    "print len(II_astro_know)\n",
    "print len(II_astro_interest)\n",
    "print len(II_sci_interest)\n",
    "print mean(II_astro_know)\n",
    "print mean(II_astro_interest)\n",
    "print mean(II_sci_interest)"
   ]
  },
  {
   "cell_type": "markdown",
   "metadata": {},
   "source": [
    "Conduct independent smples t-test, Welch’s t-test assuming populational variance different, (simmilar in educational level and age demographics; but not geographical demographic, possible due to timezone when the recruitment HIT was posted)"
   ]
  },
  {
   "cell_type": "code",
   "execution_count": 51,
   "metadata": {
    "collapsed": false
   },
   "outputs": [
    {
     "name": "stdout",
     "output_type": "stream",
     "text": [
      "t-statistic =  3.804 ;  pvalue = 0.00088\n"
     ]
    }
   ],
   "source": [
    "print 't-statistic = %6.3f ;  pvalue = %6.5f' %  stats.ttest_ind(a= I_astro_know,b= II_astro_know,equal_var=False)"
   ]
  },
  {
   "cell_type": "markdown",
   "metadata": {},
   "source": [
    "The test yields a p-value of 0.00088, which means there is a 0.088% chance we'd see sample data this far apart if the two groups tested are actually identical. So this is statistically significant if we look at the t-statistics table. "
   ]
  },
  {
   "cell_type": "code",
   "execution_count": 54,
   "metadata": {
    "collapsed": false
   },
   "outputs": [
    {
     "name": "stdout",
     "output_type": "stream",
     "text": [
      "t-statistic =  4.824 ;  pvalue = 0.00006\n"
     ]
    }
   ],
   "source": [
    "print 't-statistic = %6.3f ;  pvalue = %6.5f' %  stats.ttest_ind(a= I_astro_interest,b= II_astro_interest,equal_var=False)"
   ]
  },
  {
   "cell_type": "code",
   "execution_count": 55,
   "metadata": {
    "collapsed": false
   },
   "outputs": [
    {
     "name": "stdout",
     "output_type": "stream",
     "text": [
      "t-statistic =  2.076 ;  pvalue = 0.05091\n"
     ]
    }
   ],
   "source": [
    "print 't-statistic = %6.3f ;  pvalue = %6.5f' %  stats.ttest_ind(a= I_sci_interest,b= II_sci_interest,equal_var=False)"
   ]
  },
  {
   "cell_type": "code",
   "execution_count": 68,
   "metadata": {
    "collapsed": true
   },
   "outputs": [],
   "source": [
    "import pandas as pf"
   ]
  },
  {
   "cell_type": "code",
   "execution_count": 71,
   "metadata": {
    "collapsed": false
   },
   "outputs": [],
   "source": [
    "df = pf.DataFrame(columns=( 't', 'p'))"
   ]
  },
  {
   "cell_type": "code",
   "execution_count": 82,
   "metadata": {
    "collapsed": false
   },
   "outputs": [],
   "source": [
    "df.loc[0] = stats.ttest_ind(a= I_astro_know,b= II_astro_know,equal_var=False)\n",
    "df.loc[1] = stats.ttest_ind(a= I_astro_interest,b= II_astro_interest,equal_var=False)\n",
    "df.loc[2] = stats.ttest_ind(a= I_sci_interest,b= II_sci_interest,equal_var=False)"
   ]
  },
  {
   "cell_type": "code",
   "execution_count": 85,
   "metadata": {
    "collapsed": false
   },
   "outputs": [
    {
     "name": "stdout",
     "output_type": "stream",
     "text": [
      "\\begin{tabular}{lrr}\n",
      "\\toprule\n",
      "{} &         t &         p \\\\\n",
      "\\midrule\n",
      "0 &  3.803551 &  0.000878 \\\\\n",
      "1 &  4.824150 &  0.000057 \\\\\n",
      "2 &  2.076137 &  0.050909 \\\\\n",
      "\\bottomrule\n",
      "\\end{tabular}\n",
      "\n"
     ]
    }
   ],
   "source": [
    "print df.to_latex()"
   ]
  },
  {
   "cell_type": "code",
   "execution_count": null,
   "metadata": {
    "collapsed": true
   },
   "outputs": [],
   "source": []
  }
 ],
 "metadata": {
  "kernelspec": {
   "display_name": "Python 2",
   "language": "python",
   "name": "python2"
  },
  "language_info": {
   "codemirror_mode": {
    "name": "ipython",
    "version": 2
   },
   "file_extension": ".py",
   "mimetype": "text/x-python",
   "name": "python",
   "nbconvert_exporter": "python",
   "pygments_lexer": "ipython2",
   "version": "2.7.10"
  }
 },
 "nbformat": 4,
 "nbformat_minor": 0
}
